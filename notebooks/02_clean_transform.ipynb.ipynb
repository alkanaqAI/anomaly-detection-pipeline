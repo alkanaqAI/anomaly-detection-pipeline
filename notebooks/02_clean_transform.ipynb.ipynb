{
 "cells": [
  {
   "cell_type": "code",
   "execution_count": 1,
   "id": "84ba0bc2-22d9-4c2b-8642-b865901e15ce",
   "metadata": {},
   "outputs": [],
   "source": [
    "import pandas as pd\n",
    "from datetime import datetime"
   ]
  },
  {
   "cell_type": "code",
   "execution_count": 2,
   "id": "600e174a-6651-4e61-93ed-b40ad0c49708",
   "metadata": {},
   "outputs": [
    {
     "name": "stderr",
     "output_type": "stream",
     "text": [
      "/var/folders/7m/f7hw_n0n5bv2nyt6rywd07900000gn/T/ipykernel_41273/4225106416.py:3: UserWarning: Could not infer format, so each element will be parsed individually, falling back to `dateutil`. To ensure parsing is consistent and as-expected, please specify a format.\n",
      "  df = pd.read_csv(\n"
     ]
    }
   ],
   "source": [
    "# Load the raw data\n",
    "symbol = \"AAPL\"\n",
    "df = pd.read_csv(\n",
    "    f\"../data/{symbol}_raw.csv\",\n",
    "    index_col=0,\n",
    "    parse_dates=True,\n",
    "    header=1\n",
    ")"
   ]
  },
  {
   "cell_type": "code",
   "execution_count": 3,
   "id": "4a74da84-82bc-4300-b1c3-de2d44c661d8",
   "metadata": {},
   "outputs": [],
   "source": [
    "# Rename columns directly on df\n",
    "df.columns = ['Open', 'High', 'Low', 'Close', 'Volume']"
   ]
  },
  {
   "cell_type": "code",
   "execution_count": 4,
   "id": "2dc86462-97dd-42eb-839b-49a8aaf98eee",
   "metadata": {},
   "outputs": [],
   "source": [
    "df = df.dropna()"
   ]
  },
  {
   "cell_type": "code",
   "execution_count": 6,
   "id": "2be40dc3-9b19-41b5-8313-06b347f6024e",
   "metadata": {},
   "outputs": [],
   "source": [
    "# Create basic features (rolling mean, std, z-score)\n",
    "window = 5\n",
    "df['rolling_mean'] = df['Close'].rolling(window=window).mean()\n",
    "df['rolling_std'] = df['Close'].rolling(window=window).std()\n",
    "df['z_score'] = (df['Close'] - df['rolling_mean']) / df['rolling_std']\n",
    "df = df.dropna()"
   ]
  },
  {
   "cell_type": "code",
   "execution_count": 7,
   "id": "e502b2ab-ec0b-453a-b6d9-59d98aaa2405",
   "metadata": {},
   "outputs": [],
   "source": [
    "# Save cleaned dataset\n",
    "df.to_csv(f\"../data/{symbol}_clean.csv\")"
   ]
  },
  {
   "cell_type": "code",
   "execution_count": null,
   "id": "ebb7e0ef-c046-46ee-9f09-ee8ea835bfd9",
   "metadata": {},
   "outputs": [],
   "source": []
  }
 ],
 "metadata": {
  "kernelspec": {
   "display_name": "Python 3 (ipykernel)",
   "language": "python",
   "name": "python3"
  },
  "language_info": {
   "codemirror_mode": {
    "name": "ipython",
    "version": 3
   },
   "file_extension": ".py",
   "mimetype": "text/x-python",
   "name": "python",
   "nbconvert_exporter": "python",
   "pygments_lexer": "ipython3",
   "version": "3.11.13"
  }
 },
 "nbformat": 4,
 "nbformat_minor": 5
}
