{
 "cells": [
  {
   "cell_type": "code",
   "execution_count": 1,
   "id": "990b2fe3-95f6-43f5-8025-fc4c4bd5f43b",
   "metadata": {},
   "outputs": [],
   "source": [
    "import yfinance as yf\n",
    "import pandas as pd\n",
    "import os"
   ]
  },
  {
   "cell_type": "code",
   "execution_count": 2,
   "id": "6390c704-4d3a-4841-9eae-e4a2d419ed0d",
   "metadata": {},
   "outputs": [],
   "source": [
    "# Settings\n",
    "symbol = \"AAPL\"\n",
    "period = \"7d\"\n",
    "interval = \"1h\"\n",
    "output_path = f\"../data/{symbol}_raw.csv\""
   ]
  },
  {
   "cell_type": "code",
   "execution_count": 3,
   "id": "e1b51275-afb4-4231-aab5-8405c0c6cd7a",
   "metadata": {},
   "outputs": [
    {
     "name": "stderr",
     "output_type": "stream",
     "text": [
      "/var/folders/7m/f7hw_n0n5bv2nyt6rywd07900000gn/T/ipykernel_41176/3390006991.py:2: FutureWarning: YF.download() has changed argument auto_adjust default to True\n",
      "  data = yf.download(tickers=symbol, period=period, interval=interval)\n",
      "[*********************100%***********************]  1 of 1 completed\n"
     ]
    }
   ],
   "source": [
    "# Fetch data\n",
    "data = yf.download(tickers=symbol, period=period, interval=interval)"
   ]
  },
  {
   "cell_type": "code",
   "execution_count": 4,
   "id": "e06921de-95c5-430f-998d-43d1d12b0a62",
   "metadata": {},
   "outputs": [
    {
     "name": "stdout",
     "output_type": "stream",
     "text": [
      "Price                           Close        High         Low        Open  \\\n",
      "Ticker                           AAPL        AAPL        AAPL        AAPL   \n",
      "Datetime                                                                    \n",
      "2025-06-11 13:30:00+00:00  202.760101  204.500000  202.330002  203.470001   \n",
      "2025-06-11 14:30:00+00:00  200.940002  202.770004  200.910004  202.759995   \n",
      "2025-06-11 15:30:00+00:00  200.207108  201.169998  199.659607  200.895004   \n",
      "2025-06-11 16:30:00+00:00  200.910004  201.236496  200.184998  200.190704   \n",
      "2025-06-11 17:30:00+00:00  199.239197  200.985001  198.710007  200.904999   \n",
      "\n",
      "Price                        Volume  \n",
      "Ticker                         AAPL  \n",
      "Datetime                             \n",
      "2025-06-11 13:30:00+00:00  10386969  \n",
      "2025-06-11 14:30:00+00:00   7233304  \n",
      "2025-06-11 15:30:00+00:00  10232286  \n",
      "2025-06-11 16:30:00+00:00   5829259  \n",
      "2025-06-11 17:30:00+00:00   6328313  \n"
     ]
    }
   ],
   "source": [
    "# Preview\n",
    "print(data.head())"
   ]
  },
  {
   "cell_type": "code",
   "execution_count": 5,
   "id": "39c90399-1bfe-497c-a321-66b22ee4d625",
   "metadata": {},
   "outputs": [],
   "source": [
    "# Ensure data/ exists\n",
    "os.makedirs(\"../data\", exist_ok=True)"
   ]
  },
  {
   "cell_type": "code",
   "execution_count": 6,
   "id": "bbec5cd4-1008-4303-95de-49e80c4c5805",
   "metadata": {},
   "outputs": [
    {
     "name": "stdout",
     "output_type": "stream",
     "text": [
      "Saved to ../data/AAPL_raw.csv\n"
     ]
    }
   ],
   "source": [
    "# Save to CSV\n",
    "data.to_csv(output_path)\n",
    "print(f\"Saved to {output_path}\")"
   ]
  },
  {
   "cell_type": "code",
   "execution_count": null,
   "id": "f4f52d93-49e6-48ab-a8ea-d12e9fce4ea5",
   "metadata": {},
   "outputs": [],
   "source": []
  }
 ],
 "metadata": {
  "kernelspec": {
   "display_name": "Python 3 (ipykernel)",
   "language": "python",
   "name": "python3"
  },
  "language_info": {
   "codemirror_mode": {
    "name": "ipython",
    "version": 3
   },
   "file_extension": ".py",
   "mimetype": "text/x-python",
   "name": "python",
   "nbconvert_exporter": "python",
   "pygments_lexer": "ipython3",
   "version": "3.11.13"
  }
 },
 "nbformat": 4,
 "nbformat_minor": 5
}
